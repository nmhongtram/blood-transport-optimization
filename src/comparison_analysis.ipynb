{
 "cells": [
  {
   "cell_type": "code",
   "execution_count": 11,
   "metadata": {
    "executionInfo": {
     "elapsed": 6,
     "status": "ok",
     "timestamp": 1738253143840,
     "user": {
      "displayName": "Trâm Nguyễn",
      "userId": "01470058235497191072"
     },
     "user_tz": -420
    },
    "id": "fyyCxt0vMTUC"
   },
   "outputs": [],
   "source": [
    "import pandas as pd\n",
    "import numpy as np\n",
    "import matplotlib.pyplot as plt\n",
    "import seaborn as sns"
   ]
  },
  {
   "cell_type": "code",
   "execution_count": null,
   "metadata": {
    "executionInfo": {
     "elapsed": 1010,
     "status": "ok",
     "timestamp": 1738253144844,
     "user": {
      "displayName": "Trâm Nguyễn",
      "userId": "01470058235497191072"
     },
     "user_tz": -420
    },
    "id": "IOkd0PT5MTUF"
   },
   "outputs": [],
   "source": [
    "# Load the data\n",
    "file_path = \"results\\\\comparison-results\\\\comparison_hv.xlsx\"\n",
    "df = pd.read_excel(file_path)"
   ]
  },
  {
   "cell_type": "markdown",
   "metadata": {
    "id": "qEB2XNqCjzYd"
   },
   "source": [
    "Analyze only NSGA2 with Set1 and SPEA2 with Set2 (the optimal parameter set for each algorithm)\n",
    "\n",
    "- Reduces noise from non-optimal parameter sets\n",
    "\n",
    "- Focuses on evaluating algorithm performance under the best conditions\n",
    "\n",
    "- However, it cannot assess the sensitivity of the algorithms to other parameter sets"
   ]
  },
  {
   "cell_type": "markdown",
   "metadata": {
    "id": "H2HTJW8ts_RZ"
   },
   "source": [
    "# Preprocessing"
   ]
  },
  {
   "cell_type": "code",
   "execution_count": null,
   "metadata": {
    "executionInfo": {
     "elapsed": 412,
     "status": "ok",
     "timestamp": 1738253164320,
     "user": {
      "displayName": "Trâm Nguyễn",
      "userId": "01470058235497191072"
     },
     "user_tz": -420
    },
    "id": "ppbuHyxjMTUG"
   },
   "outputs": [],
   "source": [
    "df[\"size\"] = df[\"size\"].apply(lambda x: x.split(\".\")[0])\n",
    "df = df.rename(columns={'size': 'dataset'})\n",
    "df.drop(\"Source_File\", axis=1)\n",
    "\n",
    "# Calculate average_ob1 and average_ob2\n",
    "df[\"average_ob1\"] = df[\"ob1\"].apply(lambda x: np.mean(eval(x)) if isinstance(x, str) else np.mean(x))\n",
    "df[\"average_ob2\"] = df[\"ob2\"].apply(lambda x: np.mean(eval(x)) if isinstance(x, str) else np.mean(x))\n",
    "\n",
    "# # Calculate percentage_non_dominated\n",
    "# df[\"percentage_non_dominated\"] = df[\"num_solution\"] / df[\"pop_size\"]"
   ]
  },
  {
   "cell_type": "code",
   "execution_count": 14,
   "metadata": {
    "executionInfo": {
     "elapsed": 2,
     "status": "ok",
     "timestamp": 1738253167079,
     "user": {
      "displayName": "Trâm Nguyễn",
      "userId": "01470058235497191072"
     },
     "user_tz": -420
    },
    "id": "Bw48JdJcrMzh"
   },
   "outputs": [],
   "source": [
    "# Remove rows where (algorithm == 'nsga2' and set_params == 'set2') or (algorithm == 'spea2' and set_params == 'set1')\n",
    "df = df[~((df['algorithm'] == 'nsga2') & (df['set_params'] == 'set2'))]\n",
    "df = df[~((df['algorithm'] == 'spea2') & (df['set_params'] == 'set1'))]"
   ]
  },
  {
   "cell_type": "code",
   "execution_count": null,
   "metadata": {
    "colab": {
     "base_uri": "https://localhost:8080/"
    },
    "executionInfo": {
     "elapsed": 7,
     "status": "ok",
     "timestamp": 1738253168466,
     "user": {
      "displayName": "Trâm Nguyễn",
      "userId": "01470058235497191072"
     },
     "user_tz": -420
    },
    "id": "oLKCUYx3oZ69",
    "outputId": "0d960b26-8bfa-44ef-b59e-0c67b785c436"
   },
   "outputs": [
    {
     "name": "stderr",
     "output_type": "stream",
     "text": [
      "<ipython-input-15-57730da36dba>:7: SettingWithCopyWarning: \n",
      "A value is trying to be set on a copy of a slice from a DataFrame.\n",
      "Try using .loc[row_indexer,col_indexer] = value instead\n",
      "\n",
      "See the caveats in the documentation: https://pandas.pydata.org/pandas-docs/stable/user_guide/indexing.html#returning-a-view-versus-a-copy\n",
      "  df[\"algorithm\"] = df[\"algorithm\"].replace(algorithm_mapping)\n"
     ]
    }
   ],
   "source": [
    "algorithm_mapping = {\n",
    "    \"nsga2\": \"NSGA-II\",\n",
    "    \"spea2\": \"SPEA2\",\n",
    "}\n",
    "\n",
    "df[\"algorithm\"] = df[\"algorithm\"].replace(algorithm_mapping)"
   ]
  },
  {
   "cell_type": "code",
   "execution_count": 16,
   "metadata": {
    "colab": {
     "base_uri": "https://localhost:8080/"
    },
    "executionInfo": {
     "elapsed": 1449,
     "status": "ok",
     "timestamp": 1738253170473,
     "user": {
      "displayName": "Trâm Nguyễn",
      "userId": "01470058235497191072"
     },
     "user_tz": -420
    },
    "id": "BI4hfG47rz9k",
    "outputId": "781f210d-93f5-418b-ccf2-738dccbed3f8"
   },
   "outputs": [
    {
     "name": "stdout",
     "output_type": "stream",
     "text": [
      "<class 'pandas.core.frame.DataFrame'>\n",
      "Index: 180 entries, 0 to 359\n",
      "Data columns (total 25 columns):\n",
      " #   Column          Non-Null Count  Dtype  \n",
      "---  ------          --------------  -----  \n",
      " 0   run_time        180 non-null    float64\n",
      " 1   pop_size        180 non-null    int64  \n",
      " 2   num_gen         180 non-null    int64  \n",
      " 3   crossover_rate  180 non-null    float64\n",
      " 4   mutation_rate   180 non-null    float64\n",
      " 5   crossover_type  180 non-null    object \n",
      " 6   mutation_type   180 non-null    object \n",
      " 7   num_solution    180 non-null    int64  \n",
      " 8   front           180 non-null    object \n",
      " 9   ob1             180 non-null    object \n",
      " 10  ob2             180 non-null    object \n",
      " 11  Source_File     180 non-null    object \n",
      " 12  algorithm       180 non-null    object \n",
      " 13  set_params      180 non-null    object \n",
      " 14  num_gen.1       180 non-null    object \n",
      " 15  dataset         180 non-null    object \n",
      " 16  max_ob1         180 non-null    float64\n",
      " 17  min_ob1         180 non-null    float64\n",
      " 18  max_ob2         180 non-null    float64\n",
      " 19  min_ob2         180 non-null    float64\n",
      " 20  ob1_normalized  180 non-null    object \n",
      " 21  ob2_normalized  180 non-null    object \n",
      " 22  hypervolume     180 non-null    float64\n",
      " 23  average_ob1     180 non-null    float64\n",
      " 24  average_ob2     180 non-null    float64\n",
      "dtypes: float64(10), int64(3), object(12)\n",
      "memory usage: 36.6+ KB\n"
     ]
    }
   ],
   "source": [
    "df.info()"
   ]
  },
  {
   "cell_type": "markdown",
   "metadata": {
    "id": "qW6TXA0ltX8y"
   },
   "source": [
    "# Descriptive Statistics"
   ]
  },
  {
   "cell_type": "markdown",
   "metadata": {
    "id": "AyGHmCYxqd7C"
   },
   "source": [
    "Descriptive statistics of Hypervolume, Run Time, and Percentage of Pareto solutions for each algorithm."
   ]
  },
  {
   "cell_type": "code",
   "execution_count": 17,
   "metadata": {
    "colab": {
     "base_uri": "https://localhost:8080/"
    },
    "executionInfo": {
     "elapsed": 7,
     "status": "ok",
     "timestamp": 1738253173331,
     "user": {
      "displayName": "Trâm Nguyễn",
      "userId": "01470058235497191072"
     },
     "user_tz": -420
    },
    "id": "f1HYfuensj0B",
    "outputId": "514651d6-6d08-4d34-ebbd-942325a46dc8"
   },
   "outputs": [
    {
     "name": "stdout",
     "output_type": "stream",
     "text": [
      "\n",
      "Descriptive Statistics for NSGA-II:\n",
      "       hypervolume    run_time\n",
      "count    90.000000   90.000000\n",
      "mean      0.730237   33.499776\n",
      "std       0.056920   34.358158\n",
      "min       0.600542    4.223434\n",
      "25%       0.685319    8.940555\n",
      "50%       0.742620   20.998883\n",
      "75%       0.762496   54.101428\n",
      "max       0.846327  149.275135\n",
      "\n",
      "Descriptive Statistics for SPEA2:\n",
      "       hypervolume   run_time\n",
      "count    90.000000  90.000000\n",
      "mean      0.542390  27.930349\n",
      "std       0.100194  21.242151\n",
      "min       0.303913   4.406414\n",
      "25%       0.479364   9.854087\n",
      "50%       0.535264  18.260128\n",
      "75%       0.623907  51.156889\n",
      "max       0.712415  76.109278\n"
     ]
    }
   ],
   "source": [
    "# Group data by algorithm and then describe\n",
    "def describe_by_algorithm(df):\n",
    "    for algorithm in df['algorithm'].unique():\n",
    "        print(f\"\\nDescriptive Statistics for {algorithm}:\")\n",
    "        subset = df[df['algorithm'] == algorithm]\n",
    "        print(subset[[\"hypervolume\", \"run_time\"]].describe())\n",
    "\n",
    "describe_by_algorithm(df)"
   ]
  },
  {
   "cell_type": "markdown",
   "metadata": {
    "id": "qjXjXrPxu_-Y"
   },
   "source": [
    "Check the distribution of hypervolume, run time, and number of solutions between NSGA2 and SPEA2"
   ]
  },
  {
   "cell_type": "code",
   "execution_count": null,
   "metadata": {
    "colab": {
     "base_uri": "https://localhost:8080/",
     "height": 506
    },
    "executionInfo": {
     "elapsed": 914,
     "status": "ok",
     "timestamp": 1738253177008,
     "user": {
      "displayName": "Trâm Nguyễn",
      "userId": "01470058235497191072"
     },
     "user_tz": -420
    },
    "id": "4I5E_dcuu6fU",
    "outputId": "e2502e1d-c3b4-4041-c6f8-ac4d26758274"
   },
   "outputs": [
    {
     "data": {
      "image/png": "[encoded data removed]",
      "text/plain": [
       "<Figure size 1500x500 with 2 Axes>"
      ]
     },
     "metadata": {},
     "output_type": "display_data"
    }
   ],
   "source": [
    "# Visualization (Boxplots)\n",
    "plt.figure(figsize=(15, 5))\n",
    "\n",
    "plt.subplot(1, 3, 1)\n",
    "sns.boxplot(data=df, x=\"algorithm\", y=\"hypervolume\", color=\"#66b3ff\")\n",
    "plt.xlabel(\"Algorithm\")\n",
    "plt.ylabel(\"Hypervolume\")\n",
    "# plt.title(\"Hypervolume distribution\")\n",
    "\n",
    "plt.subplot(1, 3, 2)\n",
    "sns.boxplot(data=df, x=\"algorithm\", y=\"run_time\", color=\"#66b3ff\")\n",
    "plt.xlabel(\"Algorithm\")\n",
    "plt.ylabel(\"Processing time\")\n",
    "# plt.title(\"Processing time distribution\")\n",
    "\n",
    "# plt.subplot(1, 3, 3)\n",
    "# sns.boxplot(data=df, x=\"algorithm\", y=\"percentage_non_dominated\", color=\"#66b3ff\")\n",
    "# plt.xlabel(\"Algorithm\")\n",
    "# plt.ylabel(\"Percentage of non-dominated solutions\")\n",
    "# # plt.title(\"Percentage of non-dominated solutions distribution\")\n",
    "\n",
    "plt.tight_layout()\n",
    "plt.show()"
   ]
  },
  {
   "cell_type": "code",
   "execution_count": null,
   "metadata": {
    "colab": {
     "base_uri": "https://localhost:8080/",
     "height": 607
    },
    "executionInfo": {
     "elapsed": 677,
     "status": "ok",
     "timestamp": 1738198605206,
     "user": {
      "displayName": "Trâm Nguyễn",
      "userId": "01470058235497191072"
     },
     "user_tz": -420
    },
    "id": "zfewoKvjy-cq",
    "outputId": "a566fdff-8779-4a6b-87cf-4683d462d50c"
   },
   "outputs": [
    {
     "data": {
      "image/png": "[encoded data removed]",
      "text/plain": [
       "<Figure size 1000x600 with 1 Axes>"
      ]
     },
     "metadata": {},
     "output_type": "display_data"
    }
   ],
   "source": [
    "# Boxplot hypervolume by dataset and algorithm\n",
    "plt.figure(figsize=(10, 6))  # Điều chỉnh kích thước hình nếu cần\n",
    "sns.boxplot(data=df, x='dataset', y='hypervolume', hue='algorithm')\n",
    "# plt.title('Hypervolume Distribution by Dataset and Algorithm')\n",
    "plt.xlabel('Dataset')\n",
    "plt.ylabel('Hypervolume')\n",
    "plt.xticks()\n",
    "plt.grid(axis=\"y\")\n",
    "plt.tight_layout()\n",
    "plt.show()"
   ]
  },
  {
   "cell_type": "code",
   "execution_count": null,
   "metadata": {
    "colab": {
     "base_uri": "https://localhost:8080/",
     "height": 607
    },
    "executionInfo": {
     "elapsed": 1429,
     "status": "ok",
     "timestamp": 1738253214492,
     "user": {
      "displayName": "Trâm Nguyễn",
      "userId": "01470058235497191072"
     },
     "user_tz": -420
    },
    "id": "VCYDZR38svd9",
    "outputId": "ffe3b498-88c5-4b0c-c8af-adf805371a1c"
   },
   "outputs": [
    {
     "data": {
      "image/png": "[encoded data removed]",
      "text/plain": [
       "<Figure size 1000x600 with 1 Axes>"
      ]
     },
     "metadata": {},
     "output_type": "display_data"
    }
   ],
   "source": [
    "# Boxplot run_time by dataset and algorithm\n",
    "plt.figure(figsize=(10, 6))\n",
    "sns.boxplot(data=df, x='dataset', y='run_time', hue='algorithm')\n",
    "# plt.title('Runtime Distribution by Dataset and Algorithm')\n",
    "plt.xlabel('Dataset')\n",
    "plt.ylabel('Processing Time (seconds)')\n",
    "plt.xticks()\n",
    "plt.grid(axis=\"y\")\n",
    "plt.tight_layout()\n",
    "plt.show()"
   ]
  },
  {
   "cell_type": "code",
   "execution_count": null,
   "metadata": {
    "colab": {
     "base_uri": "https://localhost:8080/"
    },
    "executionInfo": {
     "elapsed": 2717,
     "status": "ok",
     "timestamp": 1738165771758,
     "user": {
      "displayName": "Trâm Nguyễn",
      "userId": "01470058235497191072"
     },
     "user_tz": -420
    },
    "id": "jRivyZf9vvHz",
    "outputId": "ba5fa49c-5bf5-49a9-b158-44a41e50f7f6"
   },
   "outputs": [
    {
     "name": "stdout",
     "output_type": "stream",
     "text": [
      "\n",
      "Comparison of hypervolume by Algorithm:\n",
      "               mean    median       min       max\n",
      "algorithm                                        \n",
      "nsga2      0.730237  0.742620  0.600542  0.846327\n",
      "spea2      0.542390  0.535264  0.303913  0.712415\n",
      "\n",
      "Comparison of run_time by Algorithm:\n",
      "                mean     median       min         max\n",
      "algorithm                                            \n",
      "nsga2      33.499776  20.998883  4.223434  149.275135\n",
      "spea2      27.930349  18.260128  4.406414   76.109278\n",
      "\n",
      "Comparison of num_solution by Algorithm:\n",
      "                mean  median  min  max\n",
      "algorithm                             \n",
      "nsga2      15.377778    15.5    6   25\n",
      "spea2       1.933333     1.0    1   18\n",
      "\n",
      "Comparison of average_ob1 by Algorithm:\n",
      "                   min          max         mean\n",
      "algorithm                                       \n",
      "nsga2      1084.376406  2960.089711  2055.061299\n",
      "spea2       963.163895  4421.308517  2397.127624\n",
      "\n",
      "Comparison of average_ob2 by Algorithm:\n",
      "                 min         max        mean\n",
      "algorithm                                   \n",
      "nsga2      18.437489  365.997262  161.516683\n",
      "spea2       0.000000  527.369618  202.463382\n",
      "\n",
      "Comparison of min_ob1 by Algorithm:\n",
      "                  min          max         mean\n",
      "algorithm                                      \n",
      "nsga2      896.843139  2753.817629  1707.613801\n",
      "spea2      963.163895  3706.964853  2281.348953\n",
      "\n",
      "Comparison of min_ob2 by Algorithm:\n",
      "           min         max        mean\n",
      "algorithm                             \n",
      "nsga2      0.0  222.405042   73.548027\n",
      "spea2      0.0  527.369618  163.917986\n"
     ]
    }
   ],
   "source": [
    "# Compare mean, median, min, max of hypervolume, run_time, num_solution by algorithm\n",
    "def compare_metrics(df, metrics):\n",
    "    for metric in metrics:\n",
    "        print(f\"\\nComparison of {metric} by Algorithm:\")\n",
    "        print(df.groupby('algorithm')[metric].agg(['mean', 'median', 'min', 'max']))\n",
    "\n",
    "compare_metrics(df, [\"hypervolume\", \"run_time\", \"num_solution\"])\n",
    "\n",
    "# Compare min, max, average of objectives by algorithm\n",
    "def compare_objectives(df, objectives):\n",
    "    for obj in objectives:\n",
    "        print(f\"\\nComparison of {obj} by Algorithm:\")\n",
    "        print(df.groupby('algorithm')[obj].agg(['min', 'max', 'mean']))\n",
    "\n",
    "compare_objectives(df, [\"average_ob1\", \"average_ob2\"])\n",
    "compare_objectives(df, [\"min_ob1\", \"min_ob2\"])"
   ]
  },
  {
   "cell_type": "code",
   "execution_count": null,
   "metadata": {
    "colab": {
     "base_uri": "https://localhost:8080/",
     "height": 992
    },
    "executionInfo": {
     "elapsed": 540,
     "status": "ok",
     "timestamp": 1738172409111,
     "user": {
      "displayName": "Trâm Nguyễn",
      "userId": "01470058235497191072"
     },
     "user_tz": -420
    },
    "id": "0QV2BKrwIzd8",
    "outputId": "6f815d74-9cc9-45ff-9106-cdb4aa27fd89"
   },
   "outputs": [
    {
     "name": "stdout",
     "output_type": "stream",
     "text": [
      "                               mean    median\n",
      "dataset num_gen algorithm                    \n",
      "C15     50      nsga2      0.738605  0.738843\n",
      "                spea2      0.663519  0.669732\n",
      "        70      nsga2      0.744601  0.744103\n",
      "                spea2      0.598291  0.617742\n",
      "        90      nsga2      0.745764  0.744935\n",
      "                spea2      0.622152  0.656288\n",
      "C30     50      nsga2      0.756199  0.761227\n",
      "                spea2      0.474545  0.429931\n",
      "        70      nsga2      0.794260  0.798845\n",
      "                spea2      0.525106  0.526529\n",
      "        90      nsga2      0.806243  0.811923\n",
      "                spea2      0.506716  0.506926\n",
      "C50     50      nsga2      0.640078  0.638019\n",
      "                spea2      0.524820  0.540570\n",
      "        70      nsga2      0.665949  0.667034\n",
      "                spea2      0.487918  0.486408\n",
      "        90      nsga2      0.680428  0.687389\n",
      "                spea2      0.478444  0.510671\n"
     ]
    },
    {
     "data": {
      "application/vnd.google.colaboratory.intrinsic+json": {
       "summary": "{\n  \"name\": \"compare_hypervolume(df)\",\n  \"rows\": 18,\n  \"fields\": [\n    {\n      \"column\": \"mean\",\n      \"properties\": {\n        \"dtype\": \"number\",\n        \"std\": 0.1143515071818516,\n        \"min\": 0.47454475015162884,\n        \"max\": 0.8062432353235869,\n        \"num_unique_values\": 18,\n        \"samples\": [\n          0.7386051724564229,\n          0.6635194086106944,\n          0.7942596552373953\n        ],\n        \"semantic_type\": \"\",\n        \"description\": \"\"\n      }\n    },\n    {\n      \"column\": \"median\",\n      \"properties\": {\n        \"dtype\": \"number\",\n        \"std\": 0.11647491251632493,\n        \"min\": 0.4299308793321834,\n        \"max\": 0.8119225997775084,\n        \"num_unique_values\": 18,\n        \"samples\": [\n          0.7388430812924611,\n          0.6697322338047387,\n          0.7988445378638696\n        ],\n        \"semantic_type\": \"\",\n        \"description\": \"\"\n      }\n    }\n  ]\n}",
       "type": "dataframe"
      },
      "text/html": [
       "\n",
       "  <div id=\"df-11a73f20-a7e6-4712-9c0a-6e93586dfacf\" class=\"colab-df-container\">\n",
       "    <div>\n",
       "<style scoped>\n",
       "    .dataframe tbody tr th:only-of-type {\n",
       "        vertical-align: middle;\n",
       "    }\n",
       "\n",
       "    .dataframe tbody tr th {\n",
       "        vertical-align: top;\n",
       "    }\n",
       "\n",
       "    .dataframe thead th {\n",
       "        text-align: right;\n",
       "    }\n",
       "</style>\n",
       "<table border=\"1\" class=\"dataframe\">\n",
       "  <thead>\n",
       "    <tr style=\"text-align: right;\">\n",
       "      <th></th>\n",
       "      <th></th>\n",
       "      <th></th>\n",
       "      <th>mean</th>\n",
       "      <th>median</th>\n",
       "    </tr>\n",
       "    <tr>\n",
       "      <th>dataset</th>\n",
       "      <th>num_gen</th>\n",
       "      <th>algorithm</th>\n",
       "      <th></th>\n",
       "      <th></th>\n",
       "    </tr>\n",
       "  </thead>\n",
       "  <tbody>\n",
       "    <tr>\n",
       "      <th rowspan=\"6\" valign=\"top\">C15</th>\n",
       "      <th rowspan=\"2\" valign=\"top\">50</th>\n",
       "      <th>nsga2</th>\n",
       "      <td>0.738605</td>\n",
       "      <td>0.738843</td>\n",
       "    </tr>\n",
       "    <tr>\n",
       "      <th>spea2</th>\n",
       "      <td>0.663519</td>\n",
       "      <td>0.669732</td>\n",
       "    </tr>\n",
       "    <tr>\n",
       "      <th rowspan=\"2\" valign=\"top\">70</th>\n",
       "      <th>nsga2</th>\n",
       "      <td>0.744601</td>\n",
       "      <td>0.744103</td>\n",
       "    </tr>\n",
       "    <tr>\n",
       "      <th>spea2</th>\n",
       "      <td>0.598291</td>\n",
       "      <td>0.617742</td>\n",
       "    </tr>\n",
       "    <tr>\n",
       "      <th rowspan=\"2\" valign=\"top\">90</th>\n",
       "      <th>nsga2</th>\n",
       "      <td>0.745764</td>\n",
       "      <td>0.744935</td>\n",
       "    </tr>\n",
       "    <tr>\n",
       "      <th>spea2</th>\n",
       "      <td>0.622152</td>\n",
       "      <td>0.656288</td>\n",
       "    </tr>\n",
       "    <tr>\n",
       "      <th rowspan=\"6\" valign=\"top\">C30</th>\n",
       "      <th rowspan=\"2\" valign=\"top\">50</th>\n",
       "      <th>nsga2</th>\n",
       "      <td>0.756199</td>\n",
       "      <td>0.761227</td>\n",
       "    </tr>\n",
       "    <tr>\n",
       "      <th>spea2</th>\n",
       "      <td>0.474545</td>\n",
       "      <td>0.429931</td>\n",
       "    </tr>\n",
       "    <tr>\n",
       "      <th rowspan=\"2\" valign=\"top\">70</th>\n",
       "      <th>nsga2</th>\n",
       "      <td>0.794260</td>\n",
       "      <td>0.798845</td>\n",
       "    </tr>\n",
       "    <tr>\n",
       "      <th>spea2</th>\n",
       "      <td>0.525106</td>\n",
       "      <td>0.526529</td>\n",
       "    </tr>\n",
       "    <tr>\n",
       "      <th rowspan=\"2\" valign=\"top\">90</th>\n",
       "      <th>nsga2</th>\n",
       "      <td>0.806243</td>\n",
       "      <td>0.811923</td>\n",
       "    </tr>\n",
       "    <tr>\n",
       "      <th>spea2</th>\n",
       "      <td>0.506716</td>\n",
       "      <td>0.506926</td>\n",
       "    </tr>\n",
       "    <tr>\n",
       "      <th rowspan=\"6\" valign=\"top\">C50</th>\n",
       "      <th rowspan=\"2\" valign=\"top\">50</th>\n",
       "      <th>nsga2</th>\n",
       "      <td>0.640078</td>\n",
       "      <td>0.638019</td>\n",
       "    </tr>\n",
       "    <tr>\n",
       "      <th>spea2</th>\n",
       "      <td>0.524820</td>\n",
       "      <td>0.540570</td>\n",
       "    </tr>\n",
       "    <tr>\n",
       "      <th rowspan=\"2\" valign=\"top\">70</th>\n",
       "      <th>nsga2</th>\n",
       "      <td>0.665949</td>\n",
       "      <td>0.667034</td>\n",
       "    </tr>\n",
       "    <tr>\n",
       "      <th>spea2</th>\n",
       "      <td>0.487918</td>\n",
       "      <td>0.486408</td>\n",
       "    </tr>\n",
       "    <tr>\n",
       "      <th rowspan=\"2\" valign=\"top\">90</th>\n",
       "      <th>nsga2</th>\n",
       "      <td>0.680428</td>\n",
       "      <td>0.687389</td>\n",
       "    </tr>\n",
       "    <tr>\n",
       "      <th>spea2</th>\n",
       "      <td>0.478444</td>\n",
       "      <td>0.510671</td>\n",
       "    </tr>\n",
       "  </tbody>\n",
       "</table>\n",
       "</div>\n",
       "    <div class=\"colab-df-buttons\">\n",
       "\n",
       "  <div class=\"colab-df-container\">\n",
       "    <button class=\"colab-df-convert\" onclick=\"convertToInteractive('df-11a73f20-a7e6-4712-9c0a-6e93586dfacf')\"\n",
       "            title=\"Convert this dataframe to an interactive table.\"\n",
       "            style=\"display:none;\">\n",
       "\n",
       "  <svg xmlns=\"http://www.w3.org/2000/svg\" height=\"24px\" viewBox=\"0 -960 960 960\">\n",
       "    <path d=\"M120-120v-720h720v720H120Zm60-500h600v-160H180v160Zm220 220h160v-160H400v160Zm0 220h160v-160H400v160ZM180-400h160v-160H180v160Zm440 0h160v-160H620v160ZM180-180h160v-160H180v160Zm440 0h160v-160H620v160Z\"/>\n",
       "  </svg>\n",
       "    </button>\n",
       "\n",
       "  <style>\n",
       "    .colab-df-container {\n",
       "      display:flex;\n",
       "      gap: 12px;\n",
       "    }\n",
       "\n",
       "    .colab-df-convert {\n",
       "      background-color: #E8F0FE;\n",
       "      border: none;\n",
       "      border-radius: 50%;\n",
       "      cursor: pointer;\n",
       "      display: none;\n",
       "      fill: #1967D2;\n",
       "      height: 32px;\n",
       "      padding: 0 0 0 0;\n",
       "      width: 32px;\n",
       "    }\n",
       "\n",
       "    .colab-df-convert:hover {\n",
       "      background-color: #E2EBFA;\n",
       "      box-shadow: 0px 1px 2px rgba(60, 64, 67, 0.3), 0px 1px 3px 1px rgba(60, 64, 67, 0.15);\n",
       "      fill: #174EA6;\n",
       "    }\n",
       "\n",
       "    .colab-df-buttons div {\n",
       "      margin-bottom: 4px;\n",
       "    }\n",
       "\n",
       "    [theme=dark] .colab-df-convert {\n",
       "      background-color: #3B4455;\n",
       "      fill: #D2E3FC;\n",
       "    }\n",
       "\n",
       "    [theme=dark] .colab-df-convert:hover {\n",
       "      background-color: #434B5C;\n",
       "      box-shadow: 0px 1px 3px 1px rgba(0, 0, 0, 0.15);\n",
       "      filter: drop-shadow(0px 1px 2px rgba(0, 0, 0, 0.3));\n",
       "      fill: #FFFFFF;\n",
       "    }\n",
       "  </style>\n",
       "\n",
       "    <script>\n",
       "      const buttonEl =\n",
       "        document.querySelector('#df-11a73f20-a7e6-4712-9c0a-6e93586dfacf button.colab-df-convert');\n",
       "      buttonEl.style.display =\n",
       "        google.colab.kernel.accessAllowed ? 'block' : 'none';\n",
       "\n",
       "      async function convertToInteractive(key) {\n",
       "        const element = document.querySelector('#df-11a73f20-a7e6-4712-9c0a-6e93586dfacf');\n",
       "        const dataTable =\n",
       "          await google.colab.kernel.invokeFunction('convertToInteractive',\n",
       "                                                    [key], {});\n",
       "        if (!dataTable) return;\n",
       "\n",
       "        const docLinkHtml = 'Like what you see? Visit the ' +\n",
       "          '<a target=\"_blank\" href=https://colab.research.google.com/notebooks/data_table.ipynb>data table notebook</a>'\n",
       "          + ' to learn more about interactive tables.';\n",
       "        element.innerHTML = '';\n",
       "        dataTable['output_type'] = 'display_data';\n",
       "        await google.colab.output.renderOutput(dataTable, element);\n",
       "        const docLink = document.createElement('div');\n",
       "        docLink.innerHTML = docLinkHtml;\n",
       "        element.appendChild(docLink);\n",
       "      }\n",
       "    </script>\n",
       "  </div>\n",
       "\n",
       "\n",
       "<div id=\"df-9a4d79d3-950f-4ac0-b07a-55ed74a234e4\">\n",
       "  <button class=\"colab-df-quickchart\" onclick=\"quickchart('df-9a4d79d3-950f-4ac0-b07a-55ed74a234e4')\"\n",
       "            title=\"Suggest charts\"\n",
       "            style=\"display:none;\">\n",
       "\n",
       "<svg xmlns=\"http://www.w3.org/2000/svg\" height=\"24px\"viewBox=\"0 0 24 24\"\n",
       "     width=\"24px\">\n",
       "    <g>\n",
       "        <path d=\"M19 3H5c-1.1 0-2 .9-2 2v14c0 1.1.9 2 2 2h14c1.1 0 2-.9 2-2V5c0-1.1-.9-2-2-2zM9 17H7v-7h2v7zm4 0h-2V7h2v10zm4 0h-2v-4h2v4z\"/>\n",
       "    </g>\n",
       "</svg>\n",
       "  </button>\n",
       "\n",
       "<style>\n",
       "  .colab-df-quickchart {\n",
       "      --bg-color: #E8F0FE;\n",
       "      --fill-color: #1967D2;\n",
       "      --hover-bg-color: #E2EBFA;\n",
       "      --hover-fill-color: #174EA6;\n",
       "      --disabled-fill-color: #AAA;\n",
       "      --disabled-bg-color: #DDD;\n",
       "  }\n",
       "\n",
       "  [theme=dark] .colab-df-quickchart {\n",
       "      --bg-color: #3B4455;\n",
       "      --fill-color: #D2E3FC;\n",
       "      --hover-bg-color: #434B5C;\n",
       "      --hover-fill-color: #FFFFFF;\n",
       "      --disabled-bg-color: #3B4455;\n",
       "      --disabled-fill-color: #666;\n",
       "  }\n",
       "\n",
       "  .colab-df-quickchart {\n",
       "    background-color: var(--bg-color);\n",
       "    border: none;\n",
       "    border-radius: 50%;\n",
       "    cursor: pointer;\n",
       "    display: none;\n",
       "    fill: var(--fill-color);\n",
       "    height: 32px;\n",
       "    padding: 0;\n",
       "    width: 32px;\n",
       "  }\n",
       "\n",
       "  .colab-df-quickchart:hover {\n",
       "    background-color: var(--hover-bg-color);\n",
       "    box-shadow: 0 1px 2px rgba(60, 64, 67, 0.3), 0 1px 3px 1px rgba(60, 64, 67, 0.15);\n",
       "    fill: var(--button-hover-fill-color);\n",
       "  }\n",
       "\n",
       "  .colab-df-quickchart-complete:disabled,\n",
       "  .colab-df-quickchart-complete:disabled:hover {\n",
       "    background-color: var(--disabled-bg-color);\n",
       "    fill: var(--disabled-fill-color);\n",
       "    box-shadow: none;\n",
       "  }\n",
       "\n",
       "  .colab-df-spinner {\n",
       "    border: 2px solid var(--fill-color);\n",
       "    border-color: transparent;\n",
       "    border-bottom-color: var(--fill-color);\n",
       "    animation:\n",
       "      spin 1s steps(1) infinite;\n",
       "  }\n",
       "\n",
       "  @keyframes spin {\n",
       "    0% {\n",
       "      border-color: transparent;\n",
       "      border-bottom-color: var(--fill-color);\n",
       "      border-left-color: var(--fill-color);\n",
       "    }\n",
       "    20% {\n",
       "      border-color: transparent;\n",
       "      border-left-color: var(--fill-color);\n",
       "      border-top-color: var(--fill-color);\n",
       "    }\n",
       "    30% {\n",
       "      border-color: transparent;\n",
       "      border-left-color: var(--fill-color);\n",
       "      border-top-color: var(--fill-color);\n",
       "      border-right-color: var(--fill-color);\n",
       "    }\n",
       "    40% {\n",
       "      border-color: transparent;\n",
       "      border-right-color: var(--fill-color);\n",
       "      border-top-color: var(--fill-color);\n",
       "    }\n",
       "    60% {\n",
       "      border-color: transparent;\n",
       "      border-right-color: var(--fill-color);\n",
       "    }\n",
       "    80% {\n",
       "      border-color: transparent;\n",
       "      border-right-color: var(--fill-color);\n",
       "      border-bottom-color: var(--fill-color);\n",
       "    }\n",
       "    90% {\n",
       "      border-color: transparent;\n",
       "      border-bottom-color: var(--fill-color);\n",
       "    }\n",
       "  }\n",
       "</style>\n",
       "\n",
       "  <script>\n",
       "    async function quickchart(key) {\n",
       "      const quickchartButtonEl =\n",
       "        document.querySelector('#' + key + ' button');\n",
       "      quickchartButtonEl.disabled = true;  // To prevent multiple clicks.\n",
       "      quickchartButtonEl.classList.add('colab-df-spinner');\n",
       "      try {\n",
       "        const charts = await google.colab.kernel.invokeFunction(\n",
       "            'suggestCharts', [key], {});\n",
       "      } catch (error) {\n",
       "        console.error('Error during call to suggestCharts:', error);\n",
       "      }\n",
       "      quickchartButtonEl.classList.remove('colab-df-spinner');\n",
       "      quickchartButtonEl.classList.add('colab-df-quickchart-complete');\n",
       "    }\n",
       "    (() => {\n",
       "      let quickchartButtonEl =\n",
       "        document.querySelector('#df-9a4d79d3-950f-4ac0-b07a-55ed74a234e4 button');\n",
       "      quickchartButtonEl.style.display =\n",
       "        google.colab.kernel.accessAllowed ? 'block' : 'none';\n",
       "    })();\n",
       "  </script>\n",
       "</div>\n",
       "\n",
       "    </div>\n",
       "  </div>\n"
      ],
      "text/plain": [
       "                               mean    median\n",
       "dataset num_gen algorithm                    \n",
       "C15     50      nsga2      0.738605  0.738843\n",
       "                spea2      0.663519  0.669732\n",
       "        70      nsga2      0.744601  0.744103\n",
       "                spea2      0.598291  0.617742\n",
       "        90      nsga2      0.745764  0.744935\n",
       "                spea2      0.622152  0.656288\n",
       "C30     50      nsga2      0.756199  0.761227\n",
       "                spea2      0.474545  0.429931\n",
       "        70      nsga2      0.794260  0.798845\n",
       "                spea2      0.525106  0.526529\n",
       "        90      nsga2      0.806243  0.811923\n",
       "                spea2      0.506716  0.506926\n",
       "C50     50      nsga2      0.640078  0.638019\n",
       "                spea2      0.524820  0.540570\n",
       "        70      nsga2      0.665949  0.667034\n",
       "                spea2      0.487918  0.486408\n",
       "        90      nsga2      0.680428  0.687389\n",
       "                spea2      0.478444  0.510671"
      ]
     },
     "execution_count": 46,
     "metadata": {},
     "output_type": "execute_result"
    }
   ],
   "source": [
    "# Compare mean and median of hypervolume by algorithm, num_gen, and dataset\n",
    "def compare_hypervolume(df):\n",
    "    grouped = df.groupby(['dataset', 'num_gen', 'algorithm'])['hypervolume']\n",
    "    result = grouped.agg(['mean', 'median'])\n",
    "    print(result)\n",
    "    return result\n",
    "\n",
    "compare_hypervolume(df)"
   ]
  },
  {
   "cell_type": "code",
   "execution_count": 9,
   "metadata": {
    "colab": {
     "base_uri": "https://localhost:8080/",
     "height": 992
    },
    "executionInfo": {
     "elapsed": 450,
     "status": "ok",
     "timestamp": 1738249010263,
     "user": {
      "displayName": "Trâm Nguyễn",
      "userId": "01470058235497191072"
     },
     "user_tz": -420
    },
    "id": "sKeNvE10tJXj",
    "outputId": "21d821d5-fc90-4839-dd75-d2268596158d"
   },
   "outputs": [
    {
     "name": "stdout",
     "output_type": "stream",
     "text": [
      "                                 mean      median\n",
      "dataset num_gen algorithm                        \n",
      "C15     50      NSGA-II      4.713382    4.710638\n",
      "                SPEA2        4.976646    4.958305\n",
      "        70      NSGA-II      7.003834    6.944448\n",
      "                SPEA2        6.882700    6.750139\n",
      "        90      NSGA-II     10.789521    9.463095\n",
      "                SPEA2       20.229676   22.410080\n",
      "C30     50      NSGA-II     14.218565   14.111612\n",
      "                SPEA2       14.177433   14.315330\n",
      "        70      NSGA-II     20.426007   20.649169\n",
      "                SPEA2       16.674716   16.675415\n",
      "        90      NSGA-II     25.488815   22.746030\n",
      "                SPEA2       19.466741   19.808472\n",
      "C50     50      NSGA-II     52.631451   53.366624\n",
      "                SPEA2       51.565720   50.905728\n",
      "        70      NSGA-II     59.259961   57.362557\n",
      "                SPEA2       57.925331   55.636113\n",
      "        90      NSGA-II    106.966450  115.513712\n",
      "                SPEA2       59.474174   58.714724\n"
     ]
    },
    {
     "data": {
      "application/vnd.google.colaboratory.intrinsic+json": {
       "summary": "{\n  \"name\": \"compare_run_time(df)\",\n  \"rows\": 18,\n  \"fields\": [\n    {\n      \"column\": \"mean\",\n      \"properties\": {\n        \"dtype\": \"number\",\n        \"std\": 27.74870257181704,\n        \"min\": 4.713381934165954,\n        \"max\": 106.96645040512085,\n        \"num_unique_values\": 18,\n        \"samples\": [\n          4.713381934165954,\n          4.976646280288696,\n          20.426006770133974\n        ],\n        \"semantic_type\": \"\",\n        \"description\": \"\"\n      }\n    },\n    {\n      \"column\": \"median\",\n      \"properties\": {\n        \"dtype\": \"number\",\n        \"std\": 28.953890524576572,\n        \"min\": 4.710637927055359,\n        \"max\": 115.51371192932129,\n        \"num_unique_values\": 18,\n        \"samples\": [\n          4.710637927055359,\n          4.958304524421692,\n          20.649169325828556\n        ],\n        \"semantic_type\": \"\",\n        \"description\": \"\"\n      }\n    }\n  ]\n}",
       "type": "dataframe"
      },
      "text/html": [
       "\n",
       "  <div id=\"df-ace4f49e-4dbd-4950-b350-51f27dbf58f1\" class=\"colab-df-container\">\n",
       "    <div>\n",
       "<style scoped>\n",
       "    .dataframe tbody tr th:only-of-type {\n",
       "        vertical-align: middle;\n",
       "    }\n",
       "\n",
       "    .dataframe tbody tr th {\n",
       "        vertical-align: top;\n",
       "    }\n",
       "\n",
       "    .dataframe thead th {\n",
       "        text-align: right;\n",
       "    }\n",
       "</style>\n",
       "<table border=\"1\" class=\"dataframe\">\n",
       "  <thead>\n",
       "    <tr style=\"text-align: right;\">\n",
       "      <th></th>\n",
       "      <th></th>\n",
       "      <th></th>\n",
       "      <th>mean</th>\n",
       "      <th>median</th>\n",
       "    </tr>\n",
       "    <tr>\n",
       "      <th>dataset</th>\n",
       "      <th>num_gen</th>\n",
       "      <th>algorithm</th>\n",
       "      <th></th>\n",
       "      <th></th>\n",
       "    </tr>\n",
       "  </thead>\n",
       "  <tbody>\n",
       "    <tr>\n",
       "      <th rowspan=\"6\" valign=\"top\">C15</th>\n",
       "      <th rowspan=\"2\" valign=\"top\">50</th>\n",
       "      <th>NSGA-II</th>\n",
       "      <td>4.713382</td>\n",
       "      <td>4.710638</td>\n",
       "    </tr>\n",
       "    <tr>\n",
       "      <th>SPEA2</th>\n",
       "      <td>4.976646</td>\n",
       "      <td>4.958305</td>\n",
       "    </tr>\n",
       "    <tr>\n",
       "      <th rowspan=\"2\" valign=\"top\">70</th>\n",
       "      <th>NSGA-II</th>\n",
       "      <td>7.003834</td>\n",
       "      <td>6.944448</td>\n",
       "    </tr>\n",
       "    <tr>\n",
       "      <th>SPEA2</th>\n",
       "      <td>6.882700</td>\n",
       "      <td>6.750139</td>\n",
       "    </tr>\n",
       "    <tr>\n",
       "      <th rowspan=\"2\" valign=\"top\">90</th>\n",
       "      <th>NSGA-II</th>\n",
       "      <td>10.789521</td>\n",
       "      <td>9.463095</td>\n",
       "    </tr>\n",
       "    <tr>\n",
       "      <th>SPEA2</th>\n",
       "      <td>20.229676</td>\n",
       "      <td>22.410080</td>\n",
       "    </tr>\n",
       "    <tr>\n",
       "      <th rowspan=\"6\" valign=\"top\">C30</th>\n",
       "      <th rowspan=\"2\" valign=\"top\">50</th>\n",
       "      <th>NSGA-II</th>\n",
       "      <td>14.218565</td>\n",
       "      <td>14.111612</td>\n",
       "    </tr>\n",
       "    <tr>\n",
       "      <th>SPEA2</th>\n",
       "      <td>14.177433</td>\n",
       "      <td>14.315330</td>\n",
       "    </tr>\n",
       "    <tr>\n",
       "      <th rowspan=\"2\" valign=\"top\">70</th>\n",
       "      <th>NSGA-II</th>\n",
       "      <td>20.426007</td>\n",
       "      <td>20.649169</td>\n",
       "    </tr>\n",
       "    <tr>\n",
       "      <th>SPEA2</th>\n",
       "      <td>16.674716</td>\n",
       "      <td>16.675415</td>\n",
       "    </tr>\n",
       "    <tr>\n",
       "      <th rowspan=\"2\" valign=\"top\">90</th>\n",
       "      <th>NSGA-II</th>\n",
       "      <td>25.488815</td>\n",
       "      <td>22.746030</td>\n",
       "    </tr>\n",
       "    <tr>\n",
       "      <th>SPEA2</th>\n",
       "      <td>19.466741</td>\n",
       "      <td>19.808472</td>\n",
       "    </tr>\n",
       "    <tr>\n",
       "      <th rowspan=\"6\" valign=\"top\">C50</th>\n",
       "      <th rowspan=\"2\" valign=\"top\">50</th>\n",
       "      <th>NSGA-II</th>\n",
       "      <td>52.631451</td>\n",
       "      <td>53.366624</td>\n",
       "    </tr>\n",
       "    <tr>\n",
       "      <th>SPEA2</th>\n",
       "      <td>51.565720</td>\n",
       "      <td>50.905728</td>\n",
       "    </tr>\n",
       "    <tr>\n",
       "      <th rowspan=\"2\" valign=\"top\">70</th>\n",
       "      <th>NSGA-II</th>\n",
       "      <td>59.259961</td>\n",
       "      <td>57.362557</td>\n",
       "    </tr>\n",
       "    <tr>\n",
       "      <th>SPEA2</th>\n",
       "      <td>57.925331</td>\n",
       "      <td>55.636113</td>\n",
       "    </tr>\n",
       "    <tr>\n",
       "      <th rowspan=\"2\" valign=\"top\">90</th>\n",
       "      <th>NSGA-II</th>\n",
       "      <td>106.966450</td>\n",
       "      <td>115.513712</td>\n",
       "    </tr>\n",
       "    <tr>\n",
       "      <th>SPEA2</th>\n",
       "      <td>59.474174</td>\n",
       "      <td>58.714724</td>\n",
       "    </tr>\n",
       "  </tbody>\n",
       "</table>\n",
       "</div>\n",
       "    <div class=\"colab-df-buttons\">\n",
       "\n",
       "  <div class=\"colab-df-container\">\n",
       "    <button class=\"colab-df-convert\" onclick=\"convertToInteractive('df-ace4f49e-4dbd-4950-b350-51f27dbf58f1')\"\n",
       "            title=\"Convert this dataframe to an interactive table.\"\n",
       "            style=\"display:none;\">\n",
       "\n",
       "  <svg xmlns=\"http://www.w3.org/2000/svg\" height=\"24px\" viewBox=\"0 -960 960 960\">\n",
       "    <path d=\"M120-120v-720h720v720H120Zm60-500h600v-160H180v160Zm220 220h160v-160H400v160Zm0 220h160v-160H400v160ZM180-400h160v-160H180v160Zm440 0h160v-160H620v160ZM180-180h160v-160H180v160Zm440 0h160v-160H620v160Z\"/>\n",
       "  </svg>\n",
       "    </button>\n",
       "\n",
       "  <style>\n",
       "    .colab-df-container {\n",
       "      display:flex;\n",
       "      gap: 12px;\n",
       "    }\n",
       "\n",
       "    .colab-df-convert {\n",
       "      background-color: #E8F0FE;\n",
       "      border: none;\n",
       "      border-radius: 50%;\n",
       "      cursor: pointer;\n",
       "      display: none;\n",
       "      fill: #1967D2;\n",
       "      height: 32px;\n",
       "      padding: 0 0 0 0;\n",
       "      width: 32px;\n",
       "    }\n",
       "\n",
       "    .colab-df-convert:hover {\n",
       "      background-color: #E2EBFA;\n",
       "      box-shadow: 0px 1px 2px rgba(60, 64, 67, 0.3), 0px 1px 3px 1px rgba(60, 64, 67, 0.15);\n",
       "      fill: #174EA6;\n",
       "    }\n",
       "\n",
       "    .colab-df-buttons div {\n",
       "      margin-bottom: 4px;\n",
       "    }\n",
       "\n",
       "    [theme=dark] .colab-df-convert {\n",
       "      background-color: #3B4455;\n",
       "      fill: #D2E3FC;\n",
       "    }\n",
       "\n",
       "    [theme=dark] .colab-df-convert:hover {\n",
       "      background-color: #434B5C;\n",
       "      box-shadow: 0px 1px 3px 1px rgba(0, 0, 0, 0.15);\n",
       "      filter: drop-shadow(0px 1px 2px rgba(0, 0, 0, 0.3));\n",
       "      fill: #FFFFFF;\n",
       "    }\n",
       "  </style>\n",
       "\n",
       "    <script>\n",
       "      const buttonEl =\n",
       "        document.querySelector('#df-ace4f49e-4dbd-4950-b350-51f27dbf58f1 button.colab-df-convert');\n",
       "      buttonEl.style.display =\n",
       "        google.colab.kernel.accessAllowed ? 'block' : 'none';\n",
       "\n",
       "      async function convertToInteractive(key) {\n",
       "        const element = document.querySelector('#df-ace4f49e-4dbd-4950-b350-51f27dbf58f1');\n",
       "        const dataTable =\n",
       "          await google.colab.kernel.invokeFunction('convertToInteractive',\n",
       "                                                    [key], {});\n",
       "        if (!dataTable) return;\n",
       "\n",
       "        const docLinkHtml = 'Like what you see? Visit the ' +\n",
       "          '<a target=\"_blank\" href=https://colab.research.google.com/notebooks/data_table.ipynb>data table notebook</a>'\n",
       "          + ' to learn more about interactive tables.';\n",
       "        element.innerHTML = '';\n",
       "        dataTable['output_type'] = 'display_data';\n",
       "        await google.colab.output.renderOutput(dataTable, element);\n",
       "        const docLink = document.createElement('div');\n",
       "        docLink.innerHTML = docLinkHtml;\n",
       "        element.appendChild(docLink);\n",
       "      }\n",
       "    </script>\n",
       "  </div>\n",
       "\n",
       "\n",
       "<div id=\"df-a54496a5-7e39-4247-b211-fb101e3d9c35\">\n",
       "  <button class=\"colab-df-quickchart\" onclick=\"quickchart('df-a54496a5-7e39-4247-b211-fb101e3d9c35')\"\n",
       "            title=\"Suggest charts\"\n",
       "            style=\"display:none;\">\n",
       "\n",
       "<svg xmlns=\"http://www.w3.org/2000/svg\" height=\"24px\"viewBox=\"0 0 24 24\"\n",
       "     width=\"24px\">\n",
       "    <g>\n",
       "        <path d=\"M19 3H5c-1.1 0-2 .9-2 2v14c0 1.1.9 2 2 2h14c1.1 0 2-.9 2-2V5c0-1.1-.9-2-2-2zM9 17H7v-7h2v7zm4 0h-2V7h2v10zm4 0h-2v-4h2v4z\"/>\n",
       "    </g>\n",
       "</svg>\n",
       "  </button>\n",
       "\n",
       "<style>\n",
       "  .colab-df-quickchart {\n",
       "      --bg-color: #E8F0FE;\n",
       "      --fill-color: #1967D2;\n",
       "      --hover-bg-color: #E2EBFA;\n",
       "      --hover-fill-color: #174EA6;\n",
       "      --disabled-fill-color: #AAA;\n",
       "      --disabled-bg-color: #DDD;\n",
       "  }\n",
       "\n",
       "  [theme=dark] .colab-df-quickchart {\n",
       "      --bg-color: #3B4455;\n",
       "      --fill-color: #D2E3FC;\n",
       "      --hover-bg-color: #434B5C;\n",
       "      --hover-fill-color: #FFFFFF;\n",
       "      --disabled-bg-color: #3B4455;\n",
       "      --disabled-fill-color: #666;\n",
       "  }\n",
       "\n",
       "  .colab-df-quickchart {\n",
       "    background-color: var(--bg-color);\n",
       "    border: none;\n",
       "    border-radius: 50%;\n",
       "    cursor: pointer;\n",
       "    display: none;\n",
       "    fill: var(--fill-color);\n",
       "    height: 32px;\n",
       "    padding: 0;\n",
       "    width: 32px;\n",
       "  }\n",
       "\n",
       "  .colab-df-quickchart:hover {\n",
       "    background-color: var(--hover-bg-color);\n",
       "    box-shadow: 0 1px 2px rgba(60, 64, 67, 0.3), 0 1px 3px 1px rgba(60, 64, 67, 0.15);\n",
       "    fill: var(--button-hover-fill-color);\n",
       "  }\n",
       "\n",
       "  .colab-df-quickchart-complete:disabled,\n",
       "  .colab-df-quickchart-complete:disabled:hover {\n",
       "    background-color: var(--disabled-bg-color);\n",
       "    fill: var(--disabled-fill-color);\n",
       "    box-shadow: none;\n",
       "  }\n",
       "\n",
       "  .colab-df-spinner {\n",
       "    border: 2px solid var(--fill-color);\n",
       "    border-color: transparent;\n",
       "    border-bottom-color: var(--fill-color);\n",
       "    animation:\n",
       "      spin 1s steps(1) infinite;\n",
       "  }\n",
       "\n",
       "  @keyframes spin {\n",
       "    0% {\n",
       "      border-color: transparent;\n",
       "      border-bottom-color: var(--fill-color);\n",
       "      border-left-color: var(--fill-color);\n",
       "    }\n",
       "    20% {\n",
       "      border-color: transparent;\n",
       "      border-left-color: var(--fill-color);\n",
       "      border-top-color: var(--fill-color);\n",
       "    }\n",
       "    30% {\n",
       "      border-color: transparent;\n",
       "      border-left-color: var(--fill-color);\n",
       "      border-top-color: var(--fill-color);\n",
       "      border-right-color: var(--fill-color);\n",
       "    }\n",
       "    40% {\n",
       "      border-color: transparent;\n",
       "      border-right-color: var(--fill-color);\n",
       "      border-top-color: var(--fill-color);\n",
       "    }\n",
       "    60% {\n",
       "      border-color: transparent;\n",
       "      border-right-color: var(--fill-color);\n",
       "    }\n",
       "    80% {\n",
       "      border-color: transparent;\n",
       "      border-right-color: var(--fill-color);\n",
       "      border-bottom-color: var(--fill-color);\n",
       "    }\n",
       "    90% {\n",
       "      border-color: transparent;\n",
       "      border-bottom-color: var(--fill-color);\n",
       "    }\n",
       "  }\n",
       "</style>\n",
       "\n",
       "  <script>\n",
       "    async function quickchart(key) {\n",
       "      const quickchartButtonEl =\n",
       "        document.querySelector('#' + key + ' button');\n",
       "      quickchartButtonEl.disabled = true;  // To prevent multiple clicks.\n",
       "      quickchartButtonEl.classList.add('colab-df-spinner');\n",
       "      try {\n",
       "        const charts = await google.colab.kernel.invokeFunction(\n",
       "            'suggestCharts', [key], {});\n",
       "      } catch (error) {\n",
       "        console.error('Error during call to suggestCharts:', error);\n",
       "      }\n",
       "      quickchartButtonEl.classList.remove('colab-df-spinner');\n",
       "      quickchartButtonEl.classList.add('colab-df-quickchart-complete');\n",
       "    }\n",
       "    (() => {\n",
       "      let quickchartButtonEl =\n",
       "        document.querySelector('#df-a54496a5-7e39-4247-b211-fb101e3d9c35 button');\n",
       "      quickchartButtonEl.style.display =\n",
       "        google.colab.kernel.accessAllowed ? 'block' : 'none';\n",
       "    })();\n",
       "  </script>\n",
       "</div>\n",
       "\n",
       "    </div>\n",
       "  </div>\n"
      ],
      "text/plain": [
       "                                 mean      median\n",
       "dataset num_gen algorithm                        \n",
       "C15     50      NSGA-II      4.713382    4.710638\n",
       "                SPEA2        4.976646    4.958305\n",
       "        70      NSGA-II      7.003834    6.944448\n",
       "                SPEA2        6.882700    6.750139\n",
       "        90      NSGA-II     10.789521    9.463095\n",
       "                SPEA2       20.229676   22.410080\n",
       "C30     50      NSGA-II     14.218565   14.111612\n",
       "                SPEA2       14.177433   14.315330\n",
       "        70      NSGA-II     20.426007   20.649169\n",
       "                SPEA2       16.674716   16.675415\n",
       "        90      NSGA-II     25.488815   22.746030\n",
       "                SPEA2       19.466741   19.808472\n",
       "C50     50      NSGA-II     52.631451   53.366624\n",
       "                SPEA2       51.565720   50.905728\n",
       "        70      NSGA-II     59.259961   57.362557\n",
       "                SPEA2       57.925331   55.636113\n",
       "        90      NSGA-II    106.966450  115.513712\n",
       "                SPEA2       59.474174   58.714724"
      ]
     },
     "execution_count": 9,
     "metadata": {},
     "output_type": "execute_result"
    }
   ],
   "source": [
    "# Compare mean and median of run time by algorithm, num_gen, and dataset\n",
    "def compare_run_time(df):\n",
    "    grouped = df.groupby(['dataset', 'num_gen', 'algorithm'])['run_time']\n",
    "    result = grouped.agg(['mean', 'median'])\n",
    "    print(result)\n",
    "    return result\n",
    "\n",
    "compare_run_time(df)"
   ]
  },
  {
   "cell_type": "code",
   "execution_count": null,
   "metadata": {
    "colab": {
     "base_uri": "https://localhost:8080/"
    },
    "executionInfo": {
     "elapsed": 1300,
     "status": "ok",
     "timestamp": 1738174980329,
     "user": {
      "displayName": "Trâm Nguyễn",
      "userId": "01470058235497191072"
     },
     "user_tz": -420
    },
    "id": "FpHMeclBPoxt",
    "outputId": "95bba1b6-48cf-4123-86c3-4d7c7cb20edd"
   },
   "outputs": [
    {
     "name": "stdout",
     "output_type": "stream",
     "text": [
      "\n",
      "Comparison of average_ob1 by Dataset and Algorithm:\n",
      "                          mean\n",
      "dataset algorithm             \n",
      "C15     nsga2      1190.501987\n",
      "        spea2      1307.529462\n",
      "C30     nsga2      2350.950750\n",
      "        spea2      2693.341941\n",
      "C50     nsga2      2623.731161\n",
      "        spea2      3190.511469\n",
      "\n",
      "Comparison of average_ob2 by Dataset and Algorithm:\n",
      "                         mean\n",
      "dataset algorithm            \n",
      "C15     nsga2      276.683793\n",
      "        spea2      324.966632\n",
      "C30     nsga2      129.645390\n",
      "        spea2      208.659460\n",
      "C50     nsga2       78.220867\n",
      "        spea2       73.764054\n",
      "\n",
      "Comparison of min_ob1 by Dataset and Algorithm:\n",
      "                          mean\n",
      "dataset algorithm             \n",
      "C15     nsga2       943.255861\n",
      "        spea2      1213.207789\n",
      "C30     nsga2      1732.990830\n",
      "        spea2      2550.180009\n",
      "C50     nsga2      2446.594710\n",
      "        spea2      3080.659059\n",
      "\n",
      "Comparison of min_ob2 by Dataset and Algorithm:\n",
      "                         mean\n",
      "dataset algorithm            \n",
      "C15     nsga2      220.644081\n",
      "        spea2      286.294745\n",
      "C30     nsga2        0.000000\n",
      "        spea2      154.801041\n",
      "C50     nsga2        0.000000\n",
      "        spea2       50.658170\n"
     ]
    }
   ],
   "source": [
    "# Compare min, max, average of objectives by dataset and algorithm\n",
    "def compare_objectives_by_dataset(df, objectives):\n",
    "    for obj in objectives:\n",
    "        print(f\"\\nComparison of {obj} by Dataset and Algorithm:\")\n",
    "        print(df.groupby(['dataset', 'algorithm'])[obj].agg(['mean']))\n",
    "\n",
    "compare_objectives_by_dataset(df, [\"average_ob1\", \"average_ob2\"])\n",
    "compare_objectives_by_dataset(df, [\"min_ob1\", \"min_ob2\"])"
   ]
  },
  {
   "cell_type": "markdown",
   "metadata": {
    "id": "Dwy9kdTVwoVS"
   },
   "source": [
    "# Visualization\n"
   ]
  },
  {
   "cell_type": "markdown",
   "metadata": {
    "id": "1CrVVkLOxT-O"
   },
   "source": [
    "Grouped Bar Chart: Percentage of non-dominated solutions by dataset"
   ]
  },
  {
   "cell_type": "code",
   "execution_count": null,
   "metadata": {
    "colab": {
     "base_uri": "https://localhost:8080/",
     "height": 607
    },
    "executionInfo": {
     "elapsed": 361,
     "status": "ok",
     "timestamp": 1738199349906,
     "user": {
      "displayName": "Trâm Nguyễn",
      "userId": "01470058235497191072"
     },
     "user_tz": -420
    },
    "id": "Vk-KKN11wtPF",
    "outputId": "dd2b7276-e563-483d-8e17-49aa7bce7507"
   },
   "outputs": [
    {
     "data": {
      "image/png": "[encoded data removed]",
      "text/plain": [
       "<Figure size 1000x600 with 1 Axes>"
      ]
     },
     "metadata": {},
     "output_type": "display_data"
    }
   ],
   "source": [
    "plt.figure(figsize=(10, 6))\n",
    "sns.barplot(data=df, x=\"dataset\", y=\"num_solution\", hue=\"algorithm\", errorbar=None)\n",
    "# plt.title(\"Number of Non-dominated Solutions by Dataset and Algorithm\")\n",
    "plt.xlabel(\"Dataset\")\n",
    "plt.ylabel(\"Number of non-dominated solutions\")\n",
    "plt.xticks(rotation=0)\n",
    "plt.grid(axis=\"y\")\n",
    "plt.tight_layout()\n",
    "plt.show()"
   ]
  },
  {
   "cell_type": "code",
   "execution_count": null,
   "metadata": {
    "colab": {
     "base_uri": "https://localhost:8080/",
     "height": 607
    },
    "executionInfo": {
     "elapsed": 2135,
     "status": "ok",
     "timestamp": 1738255118052,
     "user": {
      "displayName": "Trâm Nguyễn",
      "userId": "01470058235497191072"
     },
     "user_tz": -420
    },
    "id": "Z4JzA7kQMTUI",
    "outputId": "712a0dde-8150-4146-cb46-9b720f13e62a"
   },
   "outputs": [
    {
     "data": {
      "image/png": "[encoded data removed]",
      "text/plain": [
       "<Figure size 1200x600 with 1 Axes>"
      ]
     },
     "metadata": {},
     "output_type": "display_data"
    }
   ],
   "source": [
    "# Line plot of run_time by dataset and num_gen\n",
    "plt.figure(figsize=(12, 6))\n",
    "sns.lineplot(x='dataset', y='run_time', hue='num_gen', data=df)\n",
    "# plt.title('Processing time over dataset Number of Generations')\n",
    "plt.xlabel('Dataset')\n",
    "plt.ylabel('Processing Time (seconds)')\n",
    "plt.grid(axis=\"y\")\n",
    "plt.tight_layout()\n",
    "plt.show()"
   ]
  },
  {
   "cell_type": "code",
   "execution_count": null,
   "metadata": {
    "id": "URUHCfOvxXO0"
   },
   "outputs": [],
   "source": [
    "# Find the rows with the maximum hypervolume for each algorithm\n",
    "max_hv_rows = df.loc[df.groupby(['algorithm', 'dataset'])['hypervolume'].idxmax()]\n",
    "\n",
    "max_hv = max_hv_rows[['algorithm', 'dataset', 'front', 'ob1', 'ob2', 'hypervolume']]\n",
    "max_hv.to_excel(\"results\\\\comparison-results\\\\max_hv.xlsx\", index=False)"
   ]
  }
 ],
 "metadata": {
  "colab": {
   "provenance": []
  },
  "kernelspec": {
   "display_name": "Python 3",
   "language": "python",
   "name": "python3"
  },
  "language_info": {
   "codemirror_mode": {
    "name": "ipython",
    "version": 3
   },
   "file_extension": ".py",
   "mimetype": "text/x-python",
   "name": "python",
   "nbconvert_exporter": "python",
   "pygments_lexer": "ipython3",
   "version": "3.12.6"
  }
 },
 "nbformat": 4,
 "nbformat_minor": 0
}
